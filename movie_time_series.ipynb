{
  "nbformat": 4,
  "nbformat_minor": 0,
  "metadata": {
    "colab": {
      "name": "movie_time_series.ipynb",
      "provenance": [],
      "authorship_tag": "ABX9TyOI0nRvjhYvRXiRS4oN70Uq",
      "include_colab_link": true
    },
    "kernelspec": {
      "name": "python3",
      "display_name": "Python 3"
    }
  },
  "cells": [
    {
      "cell_type": "markdown",
      "metadata": {
        "id": "view-in-github",
        "colab_type": "text"
      },
      "source": [
        "<a href=\"https://colab.research.google.com/github/ViNguyen94/movie-time-series/blob/master/movie_time_series.ipynb\" target=\"_parent\"><img src=\"https://colab.research.google.com/assets/colab-badge.svg\" alt=\"Open In Colab\"/></a>"
      ]
    },
    {
      "cell_type": "code",
      "metadata": {
        "id": "6sYRiBVpgflg",
        "colab_type": "code",
        "outputId": "1ed9331e-1d7b-4589-da41-173ca7a08116",
        "colab": {
          "base_uri": "https://localhost:8080/",
          "height": 34
        }
      },
      "source": [
        "import tensorflow as tf\n",
        "print(tf.__version__)"
      ],
      "execution_count": 1,
      "outputs": [
        {
          "output_type": "stream",
          "text": [
            "2.2.0-rc2\n"
          ],
          "name": "stdout"
        }
      ]
    },
    {
      "cell_type": "code",
      "metadata": {
        "id": "FURCH3_Jg-y6",
        "colab_type": "code",
        "colab": {}
      },
      "source": [
        "!apt-get install -y -qq software-properties-common python-software-properties module-init-tools\n",
        "!add-apt-repository -y ppa:alessandro-strada/ppa 2>&1 > /dev/null\n",
        "!apt-get update -qq 2>&1 > /dev/null\n",
        "!apt-get -y install -qq google-drive-ocamlfuse fuse\n",
        "from google.colab import auth\n",
        "auth.authenticate_user()\n",
        "from oauth2client.client import GoogleCredentials\n",
        "creds = GoogleCredentials.get_application_default()\n",
        "import getpass\n",
        "!google-drive-ocamlfuse -headless -id={creds.client_id} -secret={creds.client_secret} < /dev/null 2>&1 | grep URL\n",
        "vcode = getpass.getpass()\n",
        "!echo {vcode} | google-drive-ocamlfuse -headless -id={creds.client_id} -secret={creds.client_secret}"
      ],
      "execution_count": 0,
      "outputs": []
    },
    {
      "cell_type": "code",
      "metadata": {
        "id": "sdJb7Omzuq-s",
        "colab_type": "code",
        "colab": {}
      },
      "source": [
        "!pip install tensorflow==2.0.0-beta1"
      ],
      "execution_count": 0,
      "outputs": []
    },
    {
      "cell_type": "code",
      "metadata": {
        "id": "xH3CnDldjEBi",
        "colab_type": "code",
        "colab": {}
      },
      "source": [
        "!ls -al"
      ],
      "execution_count": 0,
      "outputs": []
    },
    {
      "cell_type": "code",
      "metadata": {
        "id": "PSAp0dBvjPcF",
        "colab_type": "code",
        "colab": {}
      },
      "source": [
        "from google.colab import drive\n",
        "drive.mount('/content/drive/')"
      ],
      "execution_count": 0,
      "outputs": []
    },
    {
      "cell_type": "code",
      "metadata": {
        "id": "umkoInoUajFx",
        "colab_type": "code",
        "colab": {}
      },
      "source": [
        "!pip install --quiet --upgrade nest_asyncio\n",
        "import nest_asyncio\n",
        "nest_asyncio.apply()"
      ],
      "execution_count": 0,
      "outputs": []
    },
    {
      "cell_type": "markdown",
      "metadata": {
        "id": "Nn9bD5v3bbvM",
        "colab_type": "text"
      },
      "source": [
        "# Import library"
      ]
    },
    {
      "cell_type": "code",
      "metadata": {
        "id": "e-XCBAYolfM-",
        "colab_type": "code",
        "colab": {}
      },
      "source": [
        "\n",
        "# Pandas\n",
        "import pandas as pd\n",
        "from pandas import read_csv\n",
        "from pandas import DataFrame\n",
        "from pandas import concat\n",
        "from pandas import Series\n",
        "# numpy\n",
        "import numpy as np\n",
        "from numpy import concatenate\n",
        "from numpy import vstack, hstack\n",
        "\n",
        "# datetime\n",
        "from datetime import datetime\n",
        "import time, datetime\n",
        "\n",
        "# plot\n",
        "import matplotlib.pyplot as plt\n",
        "\n",
        "# Skitlearn\n",
        "from sklearn.metrics import mean_squared_error\n",
        "from sklearn.preprocessing import StandardScaler, MinMaxScaler, RobustScaler\n",
        "from sklearn.model_selection import train_test_split\n",
        "from sklearn.metrics import mean_squared_log_error, mean_absolute_error\n",
        "\n",
        "#LSTM libraries\n",
        "from keras.models import Sequential\n",
        "from keras.layers import LSTM\n",
        "from keras.layers import Dense\n",
        "from keras.layers import RepeatVector\n",
        "from keras.layers import TimeDistributed\n",
        "from keras.layers import Dropout\n",
        "\n",
        "# math\n",
        "from math import sqrt\n",
        "import math\n",
        "\n",
        "# random data\n",
        "from random import sample \n",
        "import random\n",
        "\n",
        "# tensorflow 2 \n",
        "import tensorflow as tf\n",
        "from tensorflow.keras.models import *\n",
        "from tensorflow.keras.layers import *\n",
        "from tensorflow.keras import backend as K\n",
        "# uszipcode\n",
        "#from uszipcode import SearchEngine, SimpleZipcode, Zipcode\n",
        "\n",
        "import tqdm\n",
        "import os"
      ],
      "execution_count": 0,
      "outputs": []
    },
    {
      "cell_type": "markdown",
      "metadata": {
        "id": "fdNtuEZLbf-F",
        "colab_type": "text"
      },
      "source": [
        "# Load dataset"
      ]
    },
    {
      "cell_type": "markdown",
      "metadata": {
        "id": "M71tnFxfc35s",
        "colab_type": "text"
      },
      "source": [
        "## Load rating dataset"
      ]
    },
    {
      "cell_type": "code",
      "metadata": {
        "id": "tKGrsCjBbqQs",
        "colab_type": "code",
        "colab": {
          "base_uri": "https://localhost:8080/",
          "height": 328
        },
        "outputId": "4df6fe60-7097-412b-ec9e-79b79d473974"
      },
      "source": [
        "rating_df = pd.read_csv('/content/drive/My Drive/My Colab/FL_newdata_1M/ratings.dat',\n",
        "           sep='::', header=None, names=['userId', 'movieId', 'rating', 'timestamp'])\n",
        "\n",
        "# Convert timestamp to standard day form\n",
        "rating_df['datetime'] = pd.to_datetime(rating_df['timestamp'], unit='s')\n",
        "\n",
        "# Convert in day\n",
        "rating_df['time'] = rating_df['datetime'].dt.strftime('%Y-%m-%d')  \n",
        "\n",
        "# Drop timestamp and rating column\n",
        "rating_df = rating_df.drop(['rating', 'timestamp','datetime'], axis=1)  \n",
        " \n",
        "print('RATINGS DATASET: \\n', rating_df)  "
      ],
      "execution_count": 22,
      "outputs": [
        {
          "output_type": "stream",
          "text": [
            "/usr/local/lib/python3.6/dist-packages/ipykernel_launcher.py:2: ParserWarning: Falling back to the 'python' engine because the 'c' engine does not support regex separators (separators > 1 char and different from '\\s+' are interpreted as regex); you can avoid this warning by specifying engine='python'.\n",
            "  \n"
          ],
          "name": "stderr"
        },
        {
          "output_type": "stream",
          "text": [
            "RATINGS DATASET: \n",
            "          userId  movieId        time\n",
            "0             1     1193  2000-12-31\n",
            "1             1      661  2000-12-31\n",
            "2             1      914  2000-12-31\n",
            "3             1     3408  2000-12-31\n",
            "4             1     2355  2001-01-06\n",
            "...         ...      ...         ...\n",
            "1000204    6040     1091  2000-04-26\n",
            "1000205    6040     1094  2000-04-25\n",
            "1000206    6040      562  2000-04-25\n",
            "1000207    6040     1096  2000-04-26\n",
            "1000208    6040     1097  2000-04-26\n",
            "\n",
            "[1000209 rows x 3 columns]\n"
          ],
          "name": "stdout"
        }
      ]
    },
    {
      "cell_type": "markdown",
      "metadata": {
        "id": "o1VFs8t6eZgc",
        "colab_type": "text"
      },
      "source": [
        "## Load user dataset"
      ]
    },
    {
      "cell_type": "markdown",
      "metadata": {
        "id": "qtzg8fGKgLXj",
        "colab_type": "text"
      },
      "source": [
        "Age is chosen from the following ranges:\n",
        "\n",
        "    * 1:  \"Under 18\"\n",
        "\t* 18:  \"18-24\"\n",
        "\t* 25:  \"25-34\"\n",
        "\t* 35:  \"35-44\"\n",
        "\t* 45:  \"45-49\"\n",
        "\t* 50:  \"50-55\"\n",
        "\t* 56:  \"56+\"\n",
        "\n",
        "\n",
        "\n",
        "\n",
        "\n"
      ]
    },
    {
      "cell_type": "code",
      "metadata": {
        "id": "NIB4GRUKeeaq",
        "colab_type": "code",
        "colab": {
          "base_uri": "https://localhost:8080/",
          "height": 328
        },
        "outputId": "1a141f5d-d199-492e-e0c3-a8ef63e62f09"
      },
      "source": [
        "user_df = pd.read_csv('/content/drive/My Drive/My Colab/FL_newdata_1M/users.dat',\n",
        "            sep='::', header=None, names=['userId', 'gender', 'age', 'occupation', 'zipcode'])\n",
        "print('USERS DATASET: \\n', user_df)"
      ],
      "execution_count": 24,
      "outputs": [
        {
          "output_type": "stream",
          "text": [
            "/usr/local/lib/python3.6/dist-packages/ipykernel_launcher.py:2: ParserWarning: Falling back to the 'python' engine because the 'c' engine does not support regex separators (separators > 1 char and different from '\\s+' are interpreted as regex); you can avoid this warning by specifying engine='python'.\n",
            "  \n"
          ],
          "name": "stderr"
        },
        {
          "output_type": "stream",
          "text": [
            "USERS DATASET: \n",
            "       userId gender  age  occupation zipcode\n",
            "0          1      F    1          10   48067\n",
            "1          2      M   56          16   70072\n",
            "2          3      M   25          15   55117\n",
            "3          4      M   45           7   02460\n",
            "4          5      M   25          20   55455\n",
            "...      ...    ...  ...         ...     ...\n",
            "6035    6036      F   25          15   32603\n",
            "6036    6037      F   45           1   76006\n",
            "6037    6038      F   56           1   14706\n",
            "6038    6039      F   45           0   01060\n",
            "6039    6040      M   25           6   11106\n",
            "\n",
            "[6040 rows x 5 columns]\n"
          ],
          "name": "stdout"
        }
      ]
    },
    {
      "cell_type": "markdown",
      "metadata": {
        "id": "2giTzxEie6NJ",
        "colab_type": "text"
      },
      "source": [
        "## Load movie dataset"
      ]
    },
    {
      "cell_type": "code",
      "metadata": {
        "id": "cdTWIQEle2E9",
        "colab_type": "code",
        "colab": {
          "base_uri": "https://localhost:8080/",
          "height": 328
        },
        "outputId": "f0686399-0be3-46da-a1c3-b3a2d3b7b2ce"
      },
      "source": [
        "movie_df = pd.read_csv('/content/drive/My Drive/My Colab/FL_newdata_1M/movies.dat',\n",
        "            sep='::', header=None, names=['movieId', 'title', 'genre'])\n",
        "print('MOVIE DATASET: \\n', movie_df)\n"
      ],
      "execution_count": 26,
      "outputs": [
        {
          "output_type": "stream",
          "text": [
            "MOVIE DATASET: \n",
            "       movieId                               title                         genre\n",
            "0           1                    Toy Story (1995)   Animation|Children's|Comedy\n",
            "1           2                      Jumanji (1995)  Adventure|Children's|Fantasy\n",
            "2           3             Grumpier Old Men (1995)                Comedy|Romance\n",
            "3           4            Waiting to Exhale (1995)                  Comedy|Drama\n",
            "4           5  Father of the Bride Part II (1995)                        Comedy\n",
            "...       ...                                 ...                           ...\n",
            "3878     3948             Meet the Parents (2000)                        Comedy\n",
            "3879     3949          Requiem for a Dream (2000)                         Drama\n",
            "3880     3950                    Tigerland (2000)                         Drama\n",
            "3881     3951             Two Family House (2000)                         Drama\n",
            "3882     3952               Contender, The (2000)                Drama|Thriller\n",
            "\n",
            "[3883 rows x 3 columns]\n"
          ],
          "name": "stdout"
        },
        {
          "output_type": "stream",
          "text": [
            "/usr/local/lib/python3.6/dist-packages/ipykernel_launcher.py:2: ParserWarning: Falling back to the 'python' engine because the 'c' engine does not support regex separators (separators > 1 char and different from '\\s+' are interpreted as regex); you can avoid this warning by specifying engine='python'.\n",
            "  \n"
          ],
          "name": "stderr"
        }
      ]
    },
    {
      "cell_type": "markdown",
      "metadata": {
        "id": "IdeDYa5BfaSn",
        "colab_type": "text"
      },
      "source": [
        "# Dataframe associated with group of users having same age"
      ]
    },
    {
      "cell_type": "code",
      "metadata": {
        "id": "vwOEcsmzfG9Z",
        "colab_type": "code",
        "colab": {}
      },
      "source": [
        "# Function to generate dataframe associated with age group\n",
        "def create_age_group(age_group, user_df, rating_df):\n",
        "\n",
        "    # pick users with the same age\n",
        "    group_userId = user_df[user_df['age'] == age_group].reset_index(drop=True) # use 'isin' to select rows whose values in an given array  \n",
        "    group_userId = group_userId['userId']\n",
        "    group_userId = np.asarray(group_userId)\n",
        "    \n",
        "    # extract information of this group from rating dataframe\n",
        "    group_age_df = rating_df[rating_df['userId'].isin(group_userId)].reset_index(drop=True)\n",
        "    \n",
        "    group_age_df = group_age_df.sort_values(by='time')\n",
        "    group_age_df = group_age_df.reindex(columns=['time','movieId', 'userId']).reset_index(drop=True)\n",
        "    \n",
        "    return group_age_df\n"
      ],
      "execution_count": 0,
      "outputs": []
    },
    {
      "cell_type": "code",
      "metadata": {
        "id": "8zNTE8KEhVFH",
        "colab_type": "code",
        "colab": {
          "base_uri": "https://localhost:8080/",
          "height": 274
        },
        "outputId": "ba3a5af9-67b9-4f32-b28d-c899ec239403"
      },
      "source": [
        "# Take group of users from 25 to 34 years old, which is encoded as 25\n",
        "age_group = 25 \n",
        "\n",
        "# Generate dataframe associated with the age group\n",
        "group_age_df = create_age_group(age_group, user_df, rating_df)\n",
        "\n",
        "print ('DATA FRAME ASSOCIATED WITH GROUP AGE 25: \\n', group_age_df )"
      ],
      "execution_count": 31,
      "outputs": [
        {
          "output_type": "stream",
          "text": [
            "DATA FRAME ASSOCIATED WITH GROUP AGE 25: \n",
            "               time  movieId  userId\n",
            "0       2000-04-25      246    6040\n",
            "1       2000-04-25      649    6040\n",
            "2       2000-04-25      919    6040\n",
            "3       2000-04-25     1649    6040\n",
            "4       2000-04-25     2384    6040\n",
            "...            ...      ...     ...\n",
            "395551  2003-02-27     3196    5950\n",
            "395552  2003-02-27     1997    5950\n",
            "395553  2003-02-27     3328    5950\n",
            "395554  2003-02-28     3267    5312\n",
            "395555  2003-02-28     2648    3158\n",
            "\n",
            "[395556 rows x 3 columns]\n"
          ],
          "name": "stdout"
        }
      ]
    },
    {
      "cell_type": "code",
      "metadata": {
        "id": "25wzrSLhjP5K",
        "colab_type": "code",
        "colab": {
          "base_uri": "https://localhost:8080/",
          "height": 103
        },
        "outputId": "fca2e1b3-09c5-4e6a-89df-9e8808aa7819"
      },
      "source": [
        "# Count the number of users and number of movies in the group\n",
        "n_user = len(group_age_df['userId'].unique()) # no. users\n",
        "print ('Number of users: ', n_user)\n",
        "\n",
        "n_movie = len(group_age_df['movieId'].unique()) # no. movies\n",
        "print ('Number of movies: ', n_movie)\n",
        "\n",
        "total_view = len(group_age_df['movieId']) # total views\n",
        "print ('Total views: ', total_view)\n",
        "\n",
        "n_day = len(group_age_df['time'].unique()) # total days\n",
        "print ('Total days: ', n_day)\n",
        "\n",
        "average_view_per_day = total_view/n_day # average view per day\n",
        "print ('Average view per day: ', average_view_per_day)"
      ],
      "execution_count": 33,
      "outputs": [
        {
          "output_type": "stream",
          "text": [
            "Number of users:  2096\n",
            "Number of movies:  3508\n",
            "Total views:  395556\n",
            "Total days:  1026\n",
            "Average view per day:  385.53216374269005\n"
          ],
          "name": "stdout"
        }
      ]
    },
    {
      "cell_type": "markdown",
      "metadata": {
        "id": "hkRE90agiPG_",
        "colab_type": "text"
      },
      "source": [
        "# Generate movie series for each movie "
      ]
    },
    {
      "cell_type": "code",
      "metadata": {
        "id": "TQKHRL5RlMvc",
        "colab_type": "code",
        "colab": {}
      },
      "source": [
        "# Set a period of time \n",
        "start = datetime.datetime(2000, 1, 1)\n",
        "end = datetime.datetime(2003, 2, 28)\n",
        "range_of_time = pd.date_range(start, end) "
      ],
      "execution_count": 0,
      "outputs": []
    },
    {
      "cell_type": "code",
      "metadata": {
        "id": "W-gu00AfhPCb",
        "colab_type": "code",
        "colab": {}
      },
      "source": [
        "# Function to generate movie series\n",
        "def generate_movie_series(movie_list, movie_list_df, range_of_time):\n",
        "    \n",
        "    movie_series = pd.DataFrame()\n",
        "    for i in range(len(movie_list)): \n",
        "        idx = movie_list[i]\n",
        "        temp = movie_list_df[movie_list_df['movieId']==idx].reset_index(drop=True)\n",
        "        \n",
        "        temp = temp.groupby(['time']).size().reset_index()\n",
        "    \n",
        "        temp = temp.rename({0 : 'movie %i' %idx}, axis=1) \n",
        "        \n",
        "        # fill in missing date\n",
        "        count = temp['movie %i' %idx] # extract 'count' colum and 'time' column\n",
        "        time_slot = pd.to_datetime(temp['time']) # Convert the data frame index to a datetime index\n",
        "       \n",
        "        temp = pd.DataFrame({'time': time_slot, 'movie %i' %idx : count})\n",
        "        temp = temp.set_index('time').reindex(range_of_time).fillna(0).astype(int).rename_axis('time')\n",
        "        movie_series = pd.concat([movie_series, temp], axis=1)    \n",
        "    return movie_series\n"
      ],
      "execution_count": 0,
      "outputs": []
    },
    {
      "cell_type": "markdown",
      "metadata": {
        "id": "DS1Tf1K4jyFK",
        "colab_type": "text"
      },
      "source": [
        "## Extract a list of movies with highest views "
      ]
    },
    {
      "cell_type": "code",
      "metadata": {
        "id": "bDg8S3Spjdip",
        "colab_type": "code",
        "colab": {}
      },
      "source": [
        "# Take 100 movies with highest views that this group watched\n",
        "most_view_movies = group_age_df.groupby('movieId').size().sort_values(ascending=False)[:100]\n",
        "most_view_movies = pd.DataFrame(most_view_movies).reset_index()\n",
        "most_view_movies = most_view_movies['movieId'].values"
      ],
      "execution_count": 0,
      "outputs": []
    },
    {
      "cell_type": "markdown",
      "metadata": {
        "id": "nmHfCF5gkFBW",
        "colab_type": "text"
      },
      "source": [
        "## Generate time series for each movie in the list"
      ]
    },
    {
      "cell_type": "code",
      "metadata": {
        "id": "roBl6m10jtph",
        "colab_type": "code",
        "colab": {
          "base_uri": "https://localhost:8080/",
          "height": 301
        },
        "outputId": "a6f332d6-eb3c-45bf-cd6c-3556bbcfa422"
      },
      "source": [
        "# generate time series for each movie\n",
        "movies_series = generate_movie_series(most_view_movies, group_age_df, range_of_time)\n",
        "\n",
        "# plot one time serie of a specific movie for instance \n",
        "plt.figure()\n",
        "plt.plot(movies_series.iloc[100:200,1])\n",
        "plt.gcf().autofmt_xdate()\n",
        "plt.title('Time series of a movie having movieId = %i' % most_view_movies[1])\n",
        "plt.xlabel('Time')\n",
        "plt.ylabel('Number of views')\n",
        "plt.show()\n",
        "\n"
      ],
      "execution_count": 45,
      "outputs": [
        {
          "output_type": "display_data",
          "data": {
            "image/png": "[encoded data removed]",
            "text/plain": [
              "<Figure size 432x288 with 1 Axes>"
            ]
          },
          "metadata": {
            "tags": []
          }
        }
      ]
    }
  ]
}